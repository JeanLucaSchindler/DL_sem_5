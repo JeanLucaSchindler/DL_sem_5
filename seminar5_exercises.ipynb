{
 "cells": [
  {
   "cell_type": "markdown",
   "metadata": {},
   "source": [
    "# MY475 Seminar 5: Language models fundamentals and further applications"
   ]
  },
  {
   "cell_type": "markdown",
   "metadata": {},
   "source": [
    "\n",
    "# 1) Review of vector and matrix computations"
   ]
  },
  {
   "cell_type": "markdown",
   "metadata": {},
   "source": [
    "With pen and paper:\n",
    "\n",
    "a) Compute the dot product between\n",
    "\n",
    "$$\n",
    "\\begin{pmatrix}\n",
    "1 \\\\\n",
    "4 \\\\\n",
    "2\n",
    "\\end{pmatrix}\n",
    "\n",
    "\\quad\n",
    "\n",
    "\\text{and}\n",
    "\n",
    "\\quad\n",
    "\n",
    "\\begin{pmatrix}\n",
    "0.4 \\\\\n",
    "0.8 \\\\\n",
    "0.2\n",
    "\\end{pmatrix}\n",
    "\n",
    "$$\n",
    "\n",
    "b) Multiply the matrices\n",
    "\n",
    "$$\n",
    "\\begin{pmatrix}\n",
    "1 & 2 \\\\\n",
    "3 & 4 \\\\\n",
    "5 & 6\n",
    "\\end{pmatrix}\n",
    "\n",
    "\\quad\n",
    "\n",
    "\\text{and}\n",
    "\n",
    "\\quad\n",
    "\n",
    "\\begin{pmatrix}\n",
    "4 & 3 \\\\\n",
    "2 & 1\n",
    "\\end{pmatrix}\n",
    "\n",
    "$$\n",
    "\n",
    "c) Compute the softmax for the vector\n",
    "\n",
    "$$\n",
    "\n",
    "\\begin{pmatrix}\n",
    "4.2 \\\\\n",
    "-3 \\\\\n",
    "0.2\n",
    "\\end{pmatrix}\n",
    "\n",
    "$$"
   ]
  },
  {
   "cell_type": "code",
   "execution_count": 34,
   "metadata": {},
   "outputs": [
    {
     "name": "stdout",
     "output_type": "stream",
     "text": [
      "T = 1: [0.981 0.001 0.018]\n",
      "T = 0.5: [1. 0. 0.]\n",
      "T = 2: [0.86  0.024 0.116]\n",
      "T = 10: [0.464 0.226 0.311]\n"
     ]
    }
   ],
   "source": [
    "import numpy as np\n",
    "\n",
    "def softmax_with_temperature(x, T=1.0):\n",
    "    x = x - np.max(x)  # numerical stability (for ex: exp(1000) could not be processed by computer)\n",
    "    x = x / T          # scale by temperature\n",
    "    exps = np.exp(x)\n",
    "    return np.round(exps / np.sum(exps),3)\n",
    "\n",
    "x = np.array([4.2, -3, 0.2])\n",
    "\n",
    "print(\"T = 1:\", softmax_with_temperature(x, T=1))\n",
    "print(\"T = 0.5:\", softmax_with_temperature(x, T=0.5))\n",
    "print(\"T = 2:\", softmax_with_temperature(x, T=2))\n",
    "print(\"T = 10:\", softmax_with_temperature(x, T=10))"
   ]
  },
  {
   "cell_type": "markdown",
   "metadata": {},
   "source": [
    "# 2) Understanding the Transformer Architecture (with a Focus on Attention)"
   ]
  },
  {
   "cell_type": "markdown",
   "metadata": {},
   "source": [
    "This document explains the transformer architecture and how attention works, using a concrete example with three tokens: `x0`, `x1`, and `x2`. We specifically follow how `x2` flows through a single transformer block.\n",
    "\n",
    "---\n",
    "\n",
    "## 🧠 The Big Idea: What is a Transformer?\n",
    "\n",
    "A **transformer** is a deep learning architecture designed to process sequences, like sentences, by allowing each element to **interact with all others**—regardless of position.\n",
    "\n",
    "Each transformer block consists of two main components:\n",
    "\n",
    "1. **Multi-head self-attention** – lets each token \"look at\" other tokens and decide what is relevant.\n",
    "2. **Feedforward neural network** – a small MLP applied independently to each token.\n",
    "\n",
    "Other essential components:\n",
    "- **Positional encodings** (to encode the order of tokens)\n",
    "- **Residual connections** and **Layer Normalisation** (to stabilize and accelerate training)\n",
    "\n",
    "---\n",
    "\n",
    "## 🎯 What is Attention?\n",
    "\n",
    "**Self-attention** is the key mechanism in transformers. Each token is mapped to three vectors:\n",
    "- **Query ($Q$)** – what the token is looking for\n",
    "- **Key ($K$)** – what the token offers\n",
    "- **Value ($V$)** – what the token sends if it's attended to\n",
    "\n",
    "Imagine a meeting:\n",
    "- Query = a person's question\n",
    "- Key = their expertise\n",
    "- Value = what they say if asked\n",
    "\n",
    "Each token compares its query with all keys to compute **attention weights**, which it then uses to take a weighted average over all value vectors.\n",
    "\n",
    "---\n",
    "\n",
    "## 📦 Setup: Input Sequence\n",
    "\n",
    "We consider a sequence with three tokens:\n",
    "- $x_0 = \\text{\"Language\"}$\n",
    "- $x_1 = \\text{\"models\"}$\n",
    "- $x_2 = \\text{\"work\"}$\n",
    "\n",
    "We will now trace how $x_2$ flows through a transformer block.\n",
    "\n",
    "---\n",
    "\n",
    "## 🛠 Step-by-Step: What Happens to $x_2$?\n",
    "\n",
    "### Step 1: Input Embedding\n",
    "\n",
    "We get the embedding vector $e_2$ for token $x_2$, and add its positional encoding $p_2$:\n",
    "\n",
    "$$\n",
    "x_2 = e_2 + p_2\n",
    "$$\n",
    "\n",
    "---\n",
    "\n",
    "### Step 2: Compute Query, Key, and Value Vectors\n",
    "\n",
    "We apply linear transformations to compute:\n",
    "\n",
    "- Query: $q_2 = W_Q x_2$\n",
    "- Key: $k_2 = W_K x_2$\n",
    "- Value: $v_2 = W_V x_2$\n",
    "\n",
    "We do the same for $x_0$ and $x_1$ to get $q_0$, $k_0$, $v_0$ and $q_1$, $k_1$, $v_1$.\n",
    "\n",
    "---\n",
    "\n",
    "### Step 3: Compute Attention Weights\n",
    "\n",
    "We calculate dot products between $q_2$ and each key to score how much $x_2$ should attend to each token:\n",
    "\n",
    "- $q_2 \\cdot k_0$\n",
    "- $q_2 \\cdot k_1$\n",
    "- $q_2 \\cdot k_2$\n",
    "\n",
    "Then apply the softmax with scaling:\n",
    "\n",
    "$$\n",
    "\\alpha_{2j} = \\frac{\\exp\\left(q_2 \\cdot k_j / \\sqrt{d}\\right)}{\\sum_{t=0}^{2} \\exp\\left(q_2 \\cdot k_t / \\sqrt{d}\\right)}\n",
    "$$\n",
    "\n",
    "Where $d$ is the dimension of the key and query vectors.\n",
    "\n",
    "---\n",
    "\n",
    "### Step 4: Aggregate Values\n",
    "\n",
    "Now $x_2$ builds its new representation by combining value vectors:\n",
    "\n",
    "$$\n",
    "x'_2 = \\alpha_{2,0} v_0 + \\alpha_{2,1} v_1 + \\alpha_{2,2} v_2\n",
    "$$\n",
    "\n",
    "This $x'_2$ now encodes context from the full sequence.\n",
    "\n",
    "---\n",
    "\n",
    "### Step 5: Feedforward Network\n",
    "\n",
    "We pass $x'_2$ through a feedforward network:\n",
    "\n",
    "1. First layer: apply GELU activation  \n",
    "   $$h = \\text{GELU}(W_1 x'_2 + b_1)$$\n",
    "\n",
    "2. Output layer:  \n",
    "   $$x''_2 = W_2 h + b_2$$\n",
    "\n",
    "---\n",
    "\n",
    "### Step 6: Residual Connections & Normalisation\n",
    "\n",
    "We apply residual connections and layer normalisation to stabilize training:\n",
    "\n",
    "1. After attention:  \n",
    "   $$\n",
    "   x'_2 = \\text{LayerNorm}(x_2 + \\text{SelfAttention}(x_2))\n",
    "   $$\n",
    "\n",
    "2. After feedforward block:  \n",
    "   $$\n",
    "   x''_2 = \\text{LayerNorm}(x'_2 + \\text{FFN}(x'_2))\n",
    "   $$\n",
    "\n",
    "---\n",
    "\n",
    "## 📣 Final Output for $x_2$\n",
    "\n",
    "After passing through the block:\n",
    "- $x''_2$ is the updated, contextualised embedding for token 2.\n",
    "- It's informed by other tokens and ready for the next transformer block.\n",
    "\n",
    "---\n",
    "\n",
    "## 🧩 Summary Visual (Simplified)\n",
    "\n",
    "```plaintext\n",
    "Input:      x0        x1        x2\n",
    "             ↓         ↓         ↓\n",
    "           Embeddings + Positional Encoding\n",
    "             ↓         ↓         ↓\n",
    "          Self-Attention (x2 attends to x0, x1, x2)\n",
    "             ↓         ↓         ↓\n",
    "           New x2' = weighted sum of v0, v1, v2\n",
    "             ↓\n",
    "         Feedforward + Residual + Norm\n",
    "             ↓\n",
    "         Output x2''\n"
   ]
  },
  {
   "cell_type": "markdown",
   "metadata": {},
   "source": [
    "![Transformer Architecture Diagram](Transformer-neural-network-12.png)"
   ]
  },
  {
   "cell_type": "code",
   "execution_count": 35,
   "metadata": {},
   "outputs": [],
   "source": [
    "import numpy as np\n",
    "\n",
    "np.random.seed(0)\n",
    "\n",
    "# Parameters\n",
    "vocab_size = 1000        # number of unique tokens\n",
    "embed_dim = 128          # size of token and position embeddings\n",
    "context_length = 100     # number of positions\n",
    "\n",
    "# Embedding matrices\n",
    "Winputtokemb = np.random.randn(vocab_size, embed_dim)       # (1000, 128)\n",
    "Winputposemb = np.random.randn(context_length, embed_dim)   # (100, 128)\n",
    "\n",
    "# Attention weight matrices\n",
    "WQ = np.random.randn(embed_dim, embed_dim) # (128, 128)\n",
    "WK = np.random.randn(embed_dim, embed_dim) # (128, 128)\n",
    "WV = np.random.randn(embed_dim, embed_dim) # (128, 128)\n",
    "\n",
    "# Feedforward weights\n",
    "W1ff = np.random.randn(256, embed_dim)\n",
    "W2ff = np.random.randn(embed_dim, 256)\n",
    "b1ff = np.random.randn(256)\n",
    "b2ff = np.random.randn(embed_dim)\n",
    "\n",
    "# Final projection (logits) layer\n",
    "Wlinear = np.random.randn(vocab_size, embed_dim)\n",
    "\n",
    "# Activation functions\n",
    "def relu(x):\n",
    "    return np.maximum(0, x)\n",
    "\n",
    "def softmax(x):\n",
    "    exp_x = np.exp(x - np.max(x))  # for numerical stability\n",
    "    return exp_x / exp_x.sum(axis=1, keepdims=True)"
   ]
  },
  {
   "cell_type": "code",
   "execution_count": 36,
   "metadata": {},
   "outputs": [
    {
     "data": {
      "text/plain": [
       "(3, 128)"
      ]
     },
     "execution_count": 36,
     "metadata": {},
     "output_type": "execute_result"
    }
   ],
   "source": [
    "# ==== Input tokens (indices into vocabulary) ====\n",
    "X = Winputtokemb[[17, 500, 4],:] + Winputposemb[[0,1,2],:]\n",
    "X.shape"
   ]
  },
  {
   "cell_type": "code",
   "execution_count": null,
   "metadata": {},
   "outputs": [],
   "source": [
    "# === Self-Attention for x2 ===\n",
    "Q = X @ WQ\n",
    "\n",
    "# Compute keys and values for all tokens\n",
    "K = X @ WK\n",
    "V = X @ WV"
   ]
  },
  {
   "cell_type": "code",
   "execution_count": 38,
   "metadata": {},
   "outputs": [
    {
     "data": {
      "text/plain": [
       "(3, 3)"
      ]
     },
     "execution_count": 38,
     "metadata": {},
     "output_type": "execute_result"
    }
   ],
   "source": [
    "scores = Q @ K.T\n",
    "scores.shape"
   ]
  },
  {
   "cell_type": "code",
   "execution_count": 39,
   "metadata": {},
   "outputs": [],
   "source": [
    "scores = scores / np.sqrt(embed_dim)  # scale by sqrt(d)\n",
    "alpha = softmax(scores)"
   ]
  },
  {
   "cell_type": "code",
   "execution_count": 40,
   "metadata": {},
   "outputs": [
    {
     "data": {
      "text/plain": [
       "(3, 128)"
      ]
     },
     "execution_count": 40,
     "metadata": {},
     "output_type": "execute_result"
    }
   ],
   "source": [
    "res = alpha @ V\n",
    "res.shape"
   ]
  },
  {
   "cell_type": "code",
   "execution_count": 41,
   "metadata": {},
   "outputs": [],
   "source": [
    "x2_prime = res[2,:]                  # shape: (128,) — new representation for x2\n",
    "x2_mid = X[2, :] + x2_prime"
   ]
  },
  {
   "cell_type": "code",
   "execution_count": 42,
   "metadata": {},
   "outputs": [],
   "source": [
    "# === Feedforward Network ===\n",
    "h = relu(W1ff @ x2_mid + b1ff)     # shape: (256,)\n",
    "x_ff_out = W2ff @ h + b2ff           # shape: (128,)\n",
    "\n",
    "# === Residual Connection ===\n",
    "x2_output = x2_mid + x_ff_out       # shape: (128,)\n",
    "## HERE, WE SHOULD HAVE ALSO NORMALIZED AFTER ADDING THE RESIDUAL CONNECTION"
   ]
  },
  {
   "cell_type": "code",
   "execution_count": 43,
   "metadata": {},
   "outputs": [
    {
     "data": {
      "text/plain": [
       "117"
      ]
     },
     "execution_count": 43,
     "metadata": {},
     "output_type": "execute_result"
    }
   ],
   "source": [
    "# Step 1: Project into vocabulary space\n",
    "logits = Wlinear @ x2_output  # shape: (1000,)\n",
    "\n",
    "# Step 2: Convert to probabilities\n",
    "probs = softmax(logits.reshape(1, -1)).flatten()  # Reshape to 2D, apply softmax, and flatten back to 1D\n",
    "\n",
    "# Step 3: Predict next token\n",
    "next_token_id = np.argmax(probs)  # or use sampling\n",
    "\n",
    "\n",
    "next_token_id"
   ]
  },
  {
   "cell_type": "markdown",
   "metadata": {},
   "source": [
    "# Optional: Retrieval augment generation (RAG)"
   ]
  },
  {
   "cell_type": "markdown",
   "metadata": {},
   "source": [
    "Reconsider the AER abstract dataset from the last seminar. Using the sentence transformer library (https://sbert.net/), can you build a simple retrieval part for a RAG system? These text chunks could then be added to the context of a language model, e.g. via an API or a local model.\n",
    "\n",
    "- Encode all abstracts or titles\n",
    "\n",
    "- Write a function that inputs a user questions, encodes it, takes cosine similarity to all embeddings in the dataset, and returns the most similar K texts\n",
    "\n",
    "- If you want to additionally refine your ranking of only the most similar abstracts with a slower model, have a look at https://sbert.net/examples/sentence_transformer/applications/retrieve_rerank/README.html and"
   ]
  },
  {
   "cell_type": "code",
   "execution_count": null,
   "metadata": {},
   "outputs": [],
   "source": [
    "from sentence_transformers import SentenceTransformer\n",
    "import pandas as pd\n",
    "\n",
    "df = pd.read_csv(\n",
    "    \"aer_sample.csv\",\n",
    "    index_col=\"date\",\n",
    "    parse_dates=True,\n",
    ")\n",
    "column = \"title\"\n",
    "\n",
    "# Load a pretrained Sentence Transformer model\n",
    "model = SentenceTransformer(\"all-MiniLM-L6-v2\")\n",
    "\n",
    "# Calculate embeddings\n",
    "data_embeddings = model.encode(df[column])"
   ]
  },
  {
   "cell_type": "code",
   "execution_count": null,
   "metadata": {},
   "outputs": [],
   "source": [
    "# embeddings dim = 384\n",
    "data_embeddings.shape"
   ]
  },
  {
   "cell_type": "code",
   "execution_count": null,
   "metadata": {},
   "outputs": [],
   "source": [
    "# import cosine_similarity\n",
    "from sklearn.metrics.pairwise import cosine_similarity\n",
    "\n",
    "def find_similar(query, data_embeddings, df, top_k=5, model=model):\n",
    "\n",
    "    query_embed = model.encode(query)\n",
    "\n",
    "    # Calculate cosine similarity\n",
    "    similarities = cosine_similarity(\n",
    "        [query_embed], data_embeddings\n",
    "    ).flatten()\n",
    "    # Sort INDEXES by similarity\n",
    "    sorted_indexes = np.argsort(similarities)[::-1]\n",
    "    # Get top K most similar\n",
    "    top_k_indexes = sorted_indexes[:top_k]\n",
    "    # Get the most similar titles\n",
    "    most_similar = df[column].iloc[top_k_indexes]\n",
    "    # Get the most similar scores\n",
    "    most_similar_scores = similarities[top_k_indexes]\n",
    "    # Create a DataFrame for better visualization\n",
    "    result_df = pd.DataFrame(\n",
    "        {\n",
    "            \"title\": most_similar,\n",
    "            \"similarity\": most_similar_scores,\n",
    "        }\n",
    "    )\n",
    "    result_df.index = df.index[top_k_indexes]\n",
    "    result_df.index.name = \"date\"\n",
    "\n",
    "\n",
    "    return result_df"
   ]
  },
  {
   "cell_type": "code",
   "execution_count": null,
   "metadata": {},
   "outputs": [],
   "source": [
    "query = \"Does an increase in immigration necessarly lead to a decrease in wages?\"\n",
    "res = find_similar(query, data_embeddings, df)\n",
    "res"
   ]
  }
 ],
 "metadata": {
  "kernelspec": {
   "display_name": "lewagon",
   "language": "python",
   "name": "python3"
  },
  "language_info": {
   "codemirror_mode": {
    "name": "ipython",
    "version": 3
   },
   "file_extension": ".py",
   "mimetype": "text/x-python",
   "name": "python",
   "nbconvert_exporter": "python",
   "pygments_lexer": "ipython3",
   "version": "3.10.6"
  }
 },
 "nbformat": 4,
 "nbformat_minor": 2
}
